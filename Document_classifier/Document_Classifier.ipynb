{
 "cells": [
  {
   "cell_type": "code",
   "execution_count": 26,
   "metadata": {},
   "outputs": [
    {
     "data": {
      "text/html": [
       "<div>\n",
       "<style scoped>\n",
       "    .dataframe tbody tr th:only-of-type {\n",
       "        vertical-align: middle;\n",
       "    }\n",
       "\n",
       "    .dataframe tbody tr th {\n",
       "        vertical-align: top;\n",
       "    }\n",
       "\n",
       "    .dataframe thead th {\n",
       "        text-align: right;\n",
       "    }\n",
       "</style>\n",
       "<table border=\"1\" class=\"dataframe\">\n",
       "  <thead>\n",
       "    <tr style=\"text-align: right;\">\n",
       "      <th></th>\n",
       "      <th>title</th>\n",
       "      <th>location</th>\n",
       "      <th>description</th>\n",
       "      <th>function</th>\n",
       "      <th>industry</th>\n",
       "      <th>career_level</th>\n",
       "    </tr>\n",
       "  </thead>\n",
       "  <tbody>\n",
       "    <tr>\n",
       "      <th>7277</th>\n",
       "      <td>Senior Consultant Product Development Process ...</td>\n",
       "      <td>Atlanta, GA</td>\n",
       "      <td>Execution of projects in various target indust...</td>\n",
       "      <td>consulting</td>\n",
       "      <td>Business Consulting</td>\n",
       "      <td>senior_specialist_or_project_manager</td>\n",
       "    </tr>\n",
       "    <tr>\n",
       "      <th>7443</th>\n",
       "      <td>Manager, Solution Delivery</td>\n",
       "      <td>Wilton, CT</td>\n",
       "      <td>Provide managerial direction for application d...</td>\n",
       "      <td>information_technology_telecommunications</td>\n",
       "      <td>Property and Casualty Insurance</td>\n",
       "      <td>manager_team_leader</td>\n",
       "    </tr>\n",
       "    <tr>\n",
       "      <th>417</th>\n",
       "      <td>Director Program Engineering - Phoenix</td>\n",
       "      <td>Phoenix, AZ</td>\n",
       "      <td>This is a high profile position responsible fo...</td>\n",
       "      <td>research_development</td>\n",
       "      <td>Air and Space Transport</td>\n",
       "      <td>manager_team_leader</td>\n",
       "    </tr>\n",
       "    <tr>\n",
       "      <th>5243</th>\n",
       "      <td>Senior Manager, Systems Operations</td>\n",
       "      <td>San Diego, CA</td>\n",
       "      <td>Provide strategic information technology visio...</td>\n",
       "      <td>information_technology_telecommunications</td>\n",
       "      <td>Minimal-Invasive Surgery and Intervention</td>\n",
       "      <td>bereichsleiter</td>\n",
       "    </tr>\n",
       "    <tr>\n",
       "      <th>6251</th>\n",
       "      <td>Senior System Administrator</td>\n",
       "      <td>San Mateo, CA</td>\n",
       "      <td>Composite Software is hiring a full-time Senio...</td>\n",
       "      <td>information_technology_telecommunications</td>\n",
       "      <td>Software Companies</td>\n",
       "      <td>senior_specialist_or_project_manager</td>\n",
       "    </tr>\n",
       "    <tr>\n",
       "      <th>4364</th>\n",
       "      <td>Regional Sales Manager - Life Sciences</td>\n",
       "      <td>Pennsylvania</td>\n",
       "      <td>ATMI is seeking a Regional Sales Manager.Â  Th...</td>\n",
       "      <td>sales</td>\n",
       "      <td>Semiconductor Production</td>\n",
       "      <td>senior_specialist_or_project_manager</td>\n",
       "    </tr>\n",
       "    <tr>\n",
       "      <th>3791</th>\n",
       "      <td>Manager, Visual Merchandising &amp; Retail Environ...</td>\n",
       "      <td>Carlsbad, CA</td>\n",
       "      <td>JOB OBJECTIVE:Â  Lead and manage US in-store m...</td>\n",
       "      <td>marketing</td>\n",
       "      <td>Sports, Games, Hobbies</td>\n",
       "      <td>manager_team_leader</td>\n",
       "    </tr>\n",
       "  </tbody>\n",
       "</table>\n",
       "</div>"
      ],
      "text/plain": [
       "                                                  title       location  \\\n",
       "7277  Senior Consultant Product Development Process ...    Atlanta, GA   \n",
       "7443                         Manager, Solution Delivery     Wilton, CT   \n",
       "417              Director Program Engineering - Phoenix    Phoenix, AZ   \n",
       "5243                 Senior Manager, Systems Operations  San Diego, CA   \n",
       "6251                        Senior System Administrator  San Mateo, CA   \n",
       "4364             Regional Sales Manager - Life Sciences   Pennsylvania   \n",
       "3791  Manager, Visual Merchandising & Retail Environ...   Carlsbad, CA   \n",
       "\n",
       "                                            description  \\\n",
       "7277  Execution of projects in various target indust...   \n",
       "7443  Provide managerial direction for application d...   \n",
       "417   This is a high profile position responsible fo...   \n",
       "5243  Provide strategic information technology visio...   \n",
       "6251  Composite Software is hiring a full-time Senio...   \n",
       "4364  ATMI is seeking a Regional Sales Manager.Â  Th...   \n",
       "3791  JOB OBJECTIVE:Â  Lead and manage US in-store m...   \n",
       "\n",
       "                                       function  \\\n",
       "7277                                 consulting   \n",
       "7443  information_technology_telecommunications   \n",
       "417                        research_development   \n",
       "5243  information_technology_telecommunications   \n",
       "6251  information_technology_telecommunications   \n",
       "4364                                      sales   \n",
       "3791                                  marketing   \n",
       "\n",
       "                                       industry  \\\n",
       "7277                        Business Consulting   \n",
       "7443            Property and Casualty Insurance   \n",
       "417                     Air and Space Transport   \n",
       "5243  Minimal-Invasive Surgery and Intervention   \n",
       "6251                         Software Companies   \n",
       "4364                   Semiconductor Production   \n",
       "3791                     Sports, Games, Hobbies   \n",
       "\n",
       "                              career_level  \n",
       "7277  senior_specialist_or_project_manager  \n",
       "7443                   manager_team_leader  \n",
       "417                    manager_team_leader  \n",
       "5243                        bereichsleiter  \n",
       "6251  senior_specialist_or_project_manager  \n",
       "4364  senior_specialist_or_project_manager  \n",
       "3791                   manager_team_leader  "
      ]
     },
     "execution_count": 26,
     "metadata": {},
     "output_type": "execute_result"
    }
   ],
   "source": [
    "import pandas as pd\n",
    "\n",
    "df_NLP = pd.read_excel('final_project.ods', engine='odf', dtype=str)\n",
    "df_NLP.sample(7)"
   ]
  },
  {
   "cell_type": "markdown",
   "metadata": {},
   "source": [
    "## Kiểm tra số class khác nhau trong từng features"
   ]
  },
  {
   "cell_type": "code",
   "execution_count": 27,
   "metadata": {},
   "outputs": [
    {
     "data": {
      "text/plain": [
       "title           6790\n",
       "location        1081\n",
       "description     7973\n",
       "function          19\n",
       "industry         352\n",
       "career_level       6\n",
       "dtype: int64"
      ]
     },
     "execution_count": 27,
     "metadata": {},
     "output_type": "execute_result"
    }
   ],
   "source": [
    "df_NLP.nunique()"
   ]
  },
  {
   "cell_type": "code",
   "execution_count": 28,
   "metadata": {},
   "outputs": [
    {
     "name": "stdout",
     "output_type": "stream",
     "text": [
      "<class 'pandas.core.frame.DataFrame'>\n",
      "RangeIndex: 8074 entries, 0 to 8073\n",
      "Data columns (total 6 columns):\n",
      " #   Column        Non-Null Count  Dtype \n",
      "---  ------        --------------  ----- \n",
      " 0   title         8074 non-null   object\n",
      " 1   location      8074 non-null   object\n",
      " 2   description   8073 non-null   object\n",
      " 3   function      8074 non-null   object\n",
      " 4   industry      8074 non-null   object\n",
      " 5   career_level  8074 non-null   object\n",
      "dtypes: object(6)\n",
      "memory usage: 378.6+ KB\n"
     ]
    }
   ],
   "source": [
    "\n",
    "\n",
    "df_NLP.info()"
   ]
  },
  {
   "cell_type": "code",
   "execution_count": 36,
   "metadata": {},
   "outputs": [
    {
     "name": "stdout",
     "output_type": "stream",
     "text": [
      "<class 'pandas.core.frame.DataFrame'>\n",
      "Index: 8073 entries, 0 to 8073\n",
      "Data columns (total 6 columns):\n",
      " #   Column        Non-Null Count  Dtype \n",
      "---  ------        --------------  ----- \n",
      " 0   title         8073 non-null   object\n",
      " 1   location      8073 non-null   object\n",
      " 2   description   8073 non-null   object\n",
      " 3   function      8073 non-null   object\n",
      " 4   industry      8073 non-null   object\n",
      " 5   career_level  8073 non-null   object\n",
      "dtypes: object(6)\n",
      "memory usage: 441.5+ KB\n"
     ]
    }
   ],
   "source": [
    "# from sklearn.impute import SimpleImputer\n",
    "\n",
    "# df_NLP[\"description\"] = SimpleImputer(strategy='most_frequent')\n",
    "df_NLP.dropna(subset=['description'], inplace=True)\n",
    "df_NLP.info()"
   ]
  },
  {
   "cell_type": "markdown",
   "metadata": {},
   "source": [
    "# MỤC tiêu:\n",
    "- tôi sẽ sử dụng tfidf(Term Frequency- Inverse Document Frequency) để tính điểm cho các cột : title, description\n",
    "- sử dụng Onehotencoder : location, function, industry\n",
    "\n",
    "**Dường như cột location khá nhiều giá trị khác nhau tuy nhiên sự sai khác đó đều cùng một dạng TENTHANHPHO, MABANG vì thế mong muốn của tôi là sử dụng regular để đưa chúng về cùng một dạng, việc này sẽ giúp giảm số lượng các giá trị khác nhau trong cột**\n",
    "\n",
    "**Dự đoán của tôi có lẽ mô hình sẽ chạy khá lâu khi mã hóa cột description chính vì thế cần một số thao tác để xử lý cột này**"
   ]
  },
  {
   "cell_type": "code",
   "execution_count": 37,
   "metadata": {},
   "outputs": [
    {
     "name": "stdout",
     "output_type": "stream",
     "text": [
      "career_level\n",
      "senior_specialist_or_project_manager      3469\n",
      "manager_team_leader                       2138\n",
      "bereichsleiter                             768\n",
      "director_business_unit_leader               56\n",
      "specialist                                  24\n",
      "managing_director_small_medium_company       3\n",
      "Name: count, dtype: int64\n",
      "---------------\n",
      "career_level\n",
      "senior_specialist_or_project_manager      868\n",
      "manager_team_leader                       534\n",
      "bereichsleiter                            192\n",
      "director_business_unit_leader              14\n",
      "specialist                                  6\n",
      "managing_director_small_medium_company      1\n",
      "Name: count, dtype: int64\n"
     ]
    }
   ],
   "source": [
    "from sklearn.model_selection import train_test_split\n",
    "import re\n",
    "\n",
    "\n",
    "def string_format(x):\n",
    "    results = re.findall('\\,\\ [A-Z]{2}$', x)\n",
    "    if len(results) > 0:\n",
    "        return results[0][2]\n",
    "    else:\n",
    "        return x\n",
    "df_NLP[\"location\"] = df_NLP[\"location\"].apply(string_format) # 66 < 1081\n",
    "# print(len(df_NLP[\"location\"].unique()))\n",
    "\n",
    "target = \"career_level\"\n",
    "X = df_NLP.drop(target, axis=1)\n",
    "y = df_NLP[target]\n",
    "X_train, X_test, y_train, y_test = train_test_split(X, y, test_size=0.2, random_state=100, stratify=y) \n",
    "# bạn phải chỉ định tham số stratify điều này sẽ ràng buộc chặt chẽ hơn về mặt chia theo đúng tỉ lệ 75, 25 tương ứng với mỗi class trong tập train và tập test\n",
    "\n",
    "print(y_train.value_counts())\n",
    "\n",
    "print(\"---------------\")\n",
    "\n",
    "print(y_test.value_counts())\n"
   ]
  },
  {
   "cell_type": "code",
   "execution_count": 38,
   "metadata": {},
   "outputs": [
    {
     "name": "stdout",
     "output_type": "stream",
     "text": [
      "<class 'pandas.core.frame.DataFrame'>\n",
      "Index: 6458 entries, 7848 to 1686\n",
      "Data columns (total 5 columns):\n",
      " #   Column       Non-Null Count  Dtype \n",
      "---  ------       --------------  ----- \n",
      " 0   title        6458 non-null   object\n",
      " 1   location     6458 non-null   object\n",
      " 2   description  6458 non-null   object\n",
      " 3   function     6458 non-null   object\n",
      " 4   industry     6458 non-null   object\n",
      "dtypes: object(5)\n",
      "memory usage: 302.7+ KB\n"
     ]
    }
   ],
   "source": [
    "X_train.info()"
   ]
  },
  {
   "cell_type": "markdown",
   "metadata": {},
   "source": [
    "> Nhận xét: Dường như có không công bằng ở đây, dữ liệu của chúng ta rơi vào trường hợp imblance Data do đó giải pháp được đưa ra\n",
    ">           đó là oversampling\n",
    "> \n",
    "> **C2: chúng ta gộp các class bé lại với nhau, tuy nhiên cần chú ý khi gộp đó là nó phải nhất quán về mặt ý nghĩa, do đó nên gộp class managing_director_small_medium_company  và director_business_unit_leader thành 1 class (Do mức độ specialist có sự khác nhau giữa 2 class này)**"
   ]
  },
  {
   "cell_type": "code",
   "execution_count": 40,
   "metadata": {},
   "outputs": [],
   "source": [
    "from imblearn.over_sampling import SMOTEN, RandomOverSampler\n",
    "from sklearn.pipeline import Pipeline\n",
    "from sklearn.model_selection import GridSearchCV\n",
    "from sklearn.compose import ColumnTransformer\n",
    "from sklearn.preprocessing import OneHotEncoder\n",
    "from sklearn.feature_extraction.text import TfidfVectorizer\n",
    "from sklearn.ensemble import RandomForestClassifier\n",
    "from sklearn.metrics import confusion_matrix, classification_report\n",
    "from sklearn.feature_selection import SelectKBest, chi2, SelectPercentile\n",
    "\n",
    "\n",
    "\n",
    "ros = SMOTEN(random_state=42, sampling_strategy={\n",
    "    \"director_business_unit_leader\" : 500,\n",
    "    \"specialist\" :500,\n",
    "    \"managing_director_small_medium_company\": 500\n",
    "}, k_neighbors=2)\n",
    "X_train, y_train = ros.fit_resample(X_train, y_train)\n",
    "\n",
    "\n",
    "\n",
    "preprocesser = ColumnTransformer(transformers=[\n",
    "    (\"title_feature\", TfidfVectorizer(), \"title\"),\n",
    "    (\"location_feature\", OneHotEncoder(handle_unknown='ignore'), [\"location\"]),\n",
    "    (\"description_feature\", TfidfVectorizer(ngram_range=(1, 2), stop_words=\"english\", min_df=0.01, max_df=0.95), \"description\"),\n",
    "    (\"function_feature\", OneHotEncoder(handle_unknown='ignore'), [\"function\"]),\n",
    "    (\"industry_feature\", TfidfVectorizer(), \"industry\")\n",
    "])\n",
    "\n",
    "cls = Pipeline(steps=[\n",
    "    (\"Processer\", preprocesser),\n",
    "    (\"feature_selection\", SelectKBest(chi2, k=500)),\n",
    "    (\"model\", RandomForestClassifier())\n",
    "])\n",
    "\n",
    "params = {\n",
    "    \"model__n_estimators\": [50, 100, 200],\n",
    "    # \"model__criterion\": [\"entropy\", \"gini\", \"log_loss\"],\n",
    "    \"feature_selection__k\": [i*100 for i in range(1, 11)]\n",
    "}\n",
    "\n",
    "grid_cls = GridSearchCV(cls, param_grid=params, cv=6, verbose=2, scoring=\"f1_weighted\", n_jobs=-1)\n",
    "grid_cls.fit(X_train, y_train)\n",
    "print(grid_cls.best_params_)\n",
    "print(grid_cls.best_score_)\n",
    "y_predict = grid_cls.predict(X_test)\n",
    "print(classification_report(y_test, y_predict)) \n",
    "\n"
   ]
  }
 ],
 "metadata": {
  "kernelspec": {
   "display_name": "base",
   "language": "python",
   "name": "python3"
  },
  "language_info": {
   "codemirror_mode": {
    "name": "ipython",
    "version": 3
   },
   "file_extension": ".py",
   "mimetype": "text/x-python",
   "name": "python",
   "nbconvert_exporter": "python",
   "pygments_lexer": "ipython3",
   "version": "3.11.5"
  }
 },
 "nbformat": 4,
 "nbformat_minor": 2
}
